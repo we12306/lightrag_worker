{
 "cells": [
  {
   "cell_type": "code",
   "execution_count": 3,
   "metadata": {},
   "outputs": [],
   "source": [
    "import networkx as nx\n",
    "from pyvis.network import Network\n",
    "\n",
    "def visualize_graph(input_file, output_file):\n",
    "    # Load the GraphML file\n",
    "    G = nx.read_graphml(input_file)\n",
    "\n",
    "    # Create a Pyvis network\n",
    "    net = Network(\n",
    "        notebook=True,\n",
    "        cdn_resources='in_line')\n",
    "\n",
    "    # Convert NetworkX graph to Pyvis network\n",
    "    net.from_nx(G)\n",
    "\n",
    "    # Save and display the network\n",
    "    net.show(output_file)"
   ]
  },
  {
   "cell_type": "code",
   "execution_count": 4,
   "metadata": {},
   "outputs": [
    {
     "name": "stdout",
     "output_type": "stream",
     "text": [
      "knowledge_graph.html\n"
     ]
    }
   ],
   "source": [
    "input_file = '/home/xiongdb/test/lightrag/lightrag_store/graph_chunk_entity_relation.graphml'\n",
    "output_file = 'knowledge_graph.html'\n",
    "visualize_graph(input_file, output_file)"
   ]
  }
 ],
 "metadata": {
  "kernelspec": {
   "display_name": "lightrag",
   "language": "python",
   "name": "python3"
  },
  "language_info": {
   "codemirror_mode": {
    "name": "ipython",
    "version": 3
   },
   "file_extension": ".py",
   "mimetype": "text/x-python",
   "name": "python",
   "nbconvert_exporter": "python",
   "pygments_lexer": "ipython3",
   "version": "3.10.0"
  }
 },
 "nbformat": 4,
 "nbformat_minor": 2
}
